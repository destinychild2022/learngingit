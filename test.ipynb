{
 "cells": [
  {
   "cell_type": "code",
   "execution_count": 1,
   "id": "9fb707e4-6071-47b2-b129-4bf6eb2f5060",
   "metadata": {},
   "outputs": [],
   "source": [
    "import torch"
   ]
  },
  {
   "cell_type": "code",
   "execution_count": 10,
   "id": "123990bf-a701-4dbb-b9b4-21c37dfc7284",
   "metadata": {},
   "outputs": [],
   "source": [
    "import gymnasium as gym\n",
    "import numpy as np\n",
    "import gym_aloha"
   ]
  },
  {
   "cell_type": "code",
   "execution_count": 11,
   "id": "593328ce-b16b-4cd6-b7f7-2377629e649c",
   "metadata": {},
   "outputs": [],
   "source": [
    "a = []"
   ]
  },
  {
   "cell_type": "code",
   "execution_count": 2,
   "id": "95f79bec-2854-45d0-b8bc-958aca03f90a",
   "metadata": {},
   "outputs": [],
   "source": [
    "from gym_aloha.env import AlohaEnv"
   ]
  },
  {
   "cell_type": "code",
   "execution_count": 9,
   "id": "3877ba1f-0450-4936-a609-33052e17b188",
   "metadata": {},
   "outputs": [],
   "source": [
    "env = AlohaEnv"
   ]
  },
  {
   "cell_type": "code",
   "execution_count": 10,
   "id": "f1e26ea6-c0f8-4c72-affd-be9cec9ced4a",
   "metadata": {},
   "outputs": [
    {
     "ename": "AttributeError",
     "evalue": "type object 'AlohaEnv' has no attribute 'action_space'",
     "output_type": "error",
     "traceback": [
      "\u001b[0;31m---------------------------------------------------------------------------\u001b[0m",
      "\u001b[0;31mAttributeError\u001b[0m                            Traceback (most recent call last)",
      "Cell \u001b[0;32mIn[10], line 1\u001b[0m\n\u001b[0;32m----> 1\u001b[0m action \u001b[38;5;241m=\u001b[39m \u001b[43menv\u001b[49m\u001b[38;5;241;43m.\u001b[39;49m\u001b[43maction_space\u001b[49m\u001b[38;5;241m.\u001b[39msample()\n",
      "\u001b[0;31mAttributeError\u001b[0m: type object 'AlohaEnv' has no attribute 'action_space'"
     ]
    }
   ],
   "source": [
    "action = env.action_space.sample()\n"
   ]
  },
  {
   "cell_type": "code",
   "execution_count": null,
   "id": "55f4e958-d9d7-4f41-8d38-db06923d6983",
   "metadata": {},
   "outputs": [],
   "source": []
  }
 ],
 "metadata": {
  "kernelspec": {
   "display_name": "Python 3 (ipykernel)",
   "language": "python",
   "name": "python3"
  },
  "language_info": {
   "codemirror_mode": {
    "name": "ipython",
    "version": 3
   },
   "file_extension": ".py",
   "mimetype": "text/x-python",
   "name": "python",
   "nbconvert_exporter": "python",
   "pygments_lexer": "ipython3",
   "version": "3.10.14"
  }
 },
 "nbformat": 4,
 "nbformat_minor": 5
}
